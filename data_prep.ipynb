{
 "cells": [
  {
   "cell_type": "code",
   "execution_count": null,
   "id": "04bc9ace-8a69-41fd-bba6-77366937c643",
   "metadata": {},
   "outputs": [],
   "source": [
    "Have you replaced your model folder with the correct model"
   ]
  },
  {
   "cell_type": "code",
   "execution_count": 6,
   "id": "928e3a51-ecc5-48cf-9c0b-9e42459e900c",
   "metadata": {},
   "outputs": [],
   "source": [
    "import pandas as pd\n",
    "import duckdb as db\n",
    "import streamlit as st\n",
    "from bertopic import BERTopic\n",
    "name = 'perplexity'\n",
    "input_csv = f'../../discord_mining/text_processing/results/{name}/{name}_results.csv'\n",
    "model_folder = f'../../discord_mining/text_processing/model/{name}'\n",
    "\n",
    "df_raw = pd.read_csv(input_csv, usecols=['Author', \n",
    "                                           'Date',\n",
    "                                           'Content',\n",
    "                                           'protocol',\n",
    "                                           'topic_cluster', \n",
    "                                           'topic_count',\n",
    "                                           'Name',\n",
    "                                           'Representation', \n",
    "                                           'Representative_Docs',\n",
    "                                           'sentiment_score',\n",
    "                                           'is_political', \n",
    "                                           'is_product_complaint',\n",
    "                                           'is_product_feedback', \n",
    "                                           'is_user_painpoint', \n",
    "                                           'is_user_request',\n",
    "                                           'is_noise',\n",
    "                                           'topic_name'])\n",
    "\n",
    "\n",
    "df_raw = db.sql(\"\"\"\n",
    "    select\n",
    "        Author as author\n",
    "        , Date as date\n",
    "        , Content as content\n",
    "        , protocol\n",
    "        , topic_cluster\n",
    "        , sentiment_score\n",
    "        , topic_count\n",
    "        , Name as name\n",
    "        , Representation as representation\n",
    "        , Representative_Docs as representative_docs\n",
    "        , is_product_complaint\n",
    "        , is_product_feedback\n",
    "        , is_user_painpoint\n",
    "        , is_user_request\n",
    "        , is_noise\n",
    "        , topic_name\n",
    "    from df_raw\n",
    "    where is_political = 0\n",
    "      and topic_cluster != -1\n",
    "\"\"\").df()\n",
    "\n",
    "\n",
    "fact_posts = df_raw.loc[:,['author','date','content', 'protocol','topic_cluster','sentiment_score']].drop_duplicates()\n",
    "dim_topic = df_raw.loc[:,[ 'topic_cluster', \n",
    "                            'topic_count',\n",
    "                            'name',\n",
    "                            'representation', \n",
    "                            'representative_docs',\n",
    "                            'is_user_painpoint',\n",
    "                            'is_product_feedback', \n",
    "                            'is_user_request',\n",
    "                            'is_noise',\n",
    "                            'topic_name'\n",
    "                         ]].drop_duplicates()\n",
    "\n",
    "# topic_model = BERTopic.load(\"./model\")\n",
    "\n",
    "fact_posts.sample(10).to_csv('fact_posts_sample.csv',index=False)\n",
    "dim_topic.sample(10).to_csv('dim_topic_sample.csv',index=False)\n",
    "\n",
    "fact_posts.to_csv('fact_posts.csv',index=False)\n",
    "dim_topic.to_csv('dim_topic.csv',index=False)\n",
    "\n"
   ]
  },
  {
   "cell_type": "code",
   "execution_count": null,
   "id": "a362bc4c-a9d9-4a50-8680-42a150995949",
   "metadata": {},
   "outputs": [],
   "source": []
  },
  {
   "cell_type": "code",
   "execution_count": null,
   "id": "12df3da9-5779-44cd-82a8-a5b540fa4a6e",
   "metadata": {},
   "outputs": [],
   "source": []
  },
  {
   "cell_type": "code",
   "execution_count": null,
   "id": "193a5867-2d67-452f-bf47-61ffdd5e6eed",
   "metadata": {},
   "outputs": [],
   "source": []
  },
  {
   "cell_type": "code",
   "execution_count": null,
   "id": "d457dc1e-85fe-49e4-b298-c9a52dc3b195",
   "metadata": {},
   "outputs": [],
   "source": []
  },
  {
   "cell_type": "code",
   "execution_count": null,
   "id": "36a491eb-85bb-4bbb-b5bf-c8ebfdf0217a",
   "metadata": {},
   "outputs": [],
   "source": []
  }
 ],
 "metadata": {
  "kernelspec": {
   "display_name": "Python 3 (ipykernel)",
   "language": "python",
   "name": "python3"
  },
  "language_info": {
   "codemirror_mode": {
    "name": "ipython",
    "version": 3
   },
   "file_extension": ".py",
   "mimetype": "text/x-python",
   "name": "python",
   "nbconvert_exporter": "python",
   "pygments_lexer": "ipython3",
   "version": "3.12.5"
  }
 },
 "nbformat": 4,
 "nbformat_minor": 5
}
